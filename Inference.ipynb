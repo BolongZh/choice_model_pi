{
 "cells": [
  {
   "cell_type": "code",
   "execution_count": 1,
   "id": "452b9407-028a-452d-96b0-9590a46d502f",
   "metadata": {},
   "outputs": [],
   "source": [
    "import numpy as np\n",
    "import pandas as pd\n",
    "import matplotlib.pyplot as plt\n",
    "import torch\n",
    "import torch.nn as nn\n",
    "from scipy.stats import norm\n",
    "import seaborn as sns\n",
    "\n",
    "import os\n",
    "os.chdir('/home/jupyter-colab-project/github/')\n",
    "\n",
    "from prediction import *\n",
    "from debiase import *\n",
    "\n",
    "pd.options.mode.chained_assignment = None  # default='warn'\n",
    "pd.set_option(\"display.precision\", 4)"
   ]
  },
  {
   "cell_type": "markdown",
   "id": "0989980d-b662-40d9-b5b2-d8fb9f99b022",
   "metadata": {},
   "source": [
    "### Coverage analysis"
   ]
  },
  {
   "cell_type": "code",
   "execution_count": 2,
   "id": "b3263b14-70af-4340-ac41-bba0b29aa4ac",
   "metadata": {},
   "outputs": [],
   "source": [
    "## use RCL data generation as an example \n",
    "\n",
    "## set up \n",
    "# number of products in each market \n",
    "J = 3 \n",
    "# number of markets\n",
    "M = 100\n",
    "# number of non-price product features\n",
    "K = 5\n",
    "# parameters (mean and variance of each random coefficients)\n",
    "params = [np.ones(K+2) , np.ones(K+2) * 0.5] \n",
    "# parameters of price\n",
    "params[0][-1] = -1\n",
    "# data generation for demand following rcl\n",
    "dg = rcl  # mnl \n",
    "# delta for evaluating the effect of price change\n",
    "delta = 0.01\n"
   ]
  },
  {
   "cell_type": "code",
   "execution_count": 3,
   "id": "85f26e54-f5ef-4e35-b623-bb42eceeecbc",
   "metadata": {},
   "outputs": [
    {
     "data": {
      "text/plain": [
       "array([357409, 147442, 759978, 549771, 161756, 775466, 325401, 155680,\n",
       "       399322, 582773, 356063, 130624, 882984, 916183, 784266, 447246,\n",
       "       249366, 844921, 200302, 281658, 964930, 104203, 837427, 765775,\n",
       "       412319, 563918, 783145, 620206, 246769, 468635, 147440, 398145,\n",
       "       911726, 506965, 688369, 761019,  11693, 245782, 541848, 302682,\n",
       "       922835, 794901, 333573, 650404,  32602, 128420, 358671, 530248,\n",
       "       586726, 248392, 385817, 344729, 255930, 524650, 121945, 360292,\n",
       "        61751, 912498, 305725,  18753, 575233, 481054, 430340, 857625,\n",
       "        62724, 685801, 975127, 434134, 837012, 768948, 500797, 929812,\n",
       "       347000, 653743, 969576, 130140, 877666, 797856, 723095, 721695,\n",
       "       367248,  37581, 854434, 848326, 880946, 796192, 315609, 298983,\n",
       "       753377,  57695, 226625, 271325, 152336, 890792, 703039,  97420,\n",
       "       549461, 576667, 108212, 877857])"
      ]
     },
     "execution_count": 3,
     "metadata": {},
     "output_type": "execute_result"
    }
   ],
   "source": [
    "## generate 100 random seeds (these are the seeds used for replication) \n",
    "np.random.seed(102666)\n",
    "seed_list = np.random.choice(1000000, 100, replace=False)\n",
    "seed_list"
   ]
  },
  {
   "cell_type": "code",
   "execution_count": 4,
   "id": "6d0d1e84-7978-4371-9940-f2795de01cfe",
   "metadata": {
    "tags": []
   },
   "outputs": [
    {
     "name": "stdout",
     "output_type": "stream",
     "text": [
      "357409 True True 3.501472713341282e-05 True\n",
      "147442 True True -7.740656852768405e-05 True\n",
      "759978 True True -9.099794862968652e-05 True\n"
     ]
    }
   ],
   "source": [
    "# RCL\n",
    "rslt_rcl = []\n",
    "\n",
    "for seed in seed_list[0:3]: ## in our paper, we use seed_list[0:100]\n",
    "    set_seed(seed)\n",
    "    true = true_theta(J, M, K, seed, dg, params,  delta)\n",
    "    theta_hat, theta_sd = Inference(J, M, K, seed, dg, params, delta = 0.01)\n",
    "    ci_l = theta_hat - 1.96 * theta_sd / np.sqrt(J * M)\n",
    "    ci_u = theta_hat + 1.96 * theta_sd / np.sqrt(J * M)\n",
    "    cover = (ci_l < true) & (ci_u > true)\n",
    "    significant = ci_u < 0\n",
    "    bias = theta_hat - true\n",
    "    ci_l90 = theta_hat - 1.64 * theta_sd / np.sqrt(J * M )\n",
    "    ci_u90 = theta_hat + 1.64 * theta_sd / np.sqrt(J * M )\n",
    "    cover90 = (ci_l90 < true) & (ci_u90 > true)\n",
    "    print(seed, cover, significant, bias, cover90)\n",
    "    rslt_rcl.append([seed, theta_hat, theta_sd, true, ci_l, ci_u, cover, significant, bias])"
   ]
  },
  {
   "cell_type": "code",
   "execution_count": 5,
   "id": "d8afa2ed-ce00-4887-8dfd-bc285772821e",
   "metadata": {},
   "outputs": [],
   "source": [
    "#rslt_rcl_df = pd.DataFrame(rslt_rcl, columns = ['seed', 'theta_hat', 'theta_sd', 'true', 'ci_l', 'ci_u', 'cover', 'significant', 'bias'])\n",
    "#rslt_rcl_df.to_csv('results/debiase_rslt.csv')"
   ]
  },
  {
   "cell_type": "code",
   "execution_count": 6,
   "id": "1dc5deb7-47c5-48e8-abc4-c27106285ef5",
   "metadata": {},
   "outputs": [
    {
     "data": {
      "text/plain": [
       "true    -1.3328e-03\n",
       "cover    9.1000e-01\n",
       "bias    -1.2898e-05\n",
       "dtype: float64"
      ]
     },
     "execution_count": 6,
     "metadata": {},
     "output_type": "execute_result"
    }
   ],
   "source": [
    "# report coverage statistics\n",
    "rslt_rcl_df = pd.read_csv('results/debiase_rslt.csv')\n",
    "rslt_rcl_df[['true','cover','bias']].mean()"
   ]
  },
  {
   "cell_type": "markdown",
   "id": "c5c464e5-8297-4994-9e24-ff2264a50853",
   "metadata": {},
   "source": [
    "## Comparison with the plug-in method"
   ]
  },
  {
   "cell_type": "code",
   "execution_count": 7,
   "id": "745883ac-f753-4bcd-8155-b78cab8c3209",
   "metadata": {},
   "outputs": [
    {
     "name": "stdout",
     "output_type": "stream",
     "text": [
      "[[-0.0013334292, 0.0014379476]]\n",
      "[[-0.0013833591, 0.0015712777]]\n",
      "[[-0.001511665, 0.0015254867]]\n"
     ]
    }
   ],
   "source": [
    "## RCL\n",
    "J = 3\n",
    "M = 100\n",
    "K = 5\n",
    "\n",
    "params = [np.ones(K+2) , np.ones(K+2) * 0.5] \n",
    "params[0][-1] = -1\n",
    "dg = rcl \n",
    "delta = 0.01\n",
    "\n",
    "rslt_rcl_nc = []\n",
    "\n",
    "for seed in seed_list[0:3]:\n",
    "    set_seed(seed)\n",
    "    rslt = PlugIn_theta(J, M, K, seed, dg, params,  delta = 0.01)\n",
    "    rslt_rcl_nc.append([item for sublist in rslt for item in sublist])\n",
    "    print(rslt)\n"
   ]
  },
  {
   "cell_type": "code",
   "execution_count": 8,
   "id": "6547cba2-dbea-408d-9665-ed0d1b88f01f",
   "metadata": {},
   "outputs": [],
   "source": [
    "#rslt_rcl_nc_df = pd.DataFrame(rslt_rcl_nc, columns = ['our_nc_hat', 'our_nc_sd'])\n",
    "#rslt_rcl_nc_df.to_csv('results/plugin_rslt.csv')"
   ]
  },
  {
   "cell_type": "markdown",
   "id": "e75f6d94-232e-45d9-97dc-d75a338f57ad",
   "metadata": {},
   "source": [
    "## Plots"
   ]
  },
  {
   "cell_type": "code",
   "execution_count": 9,
   "id": "29d17d63-51a3-402b-a26f-f686097863ec",
   "metadata": {},
   "outputs": [
    {
     "data": {
      "image/png": "[encoded data removed]",
      "text/plain": [
       "<Figure size 432x288 with 1 Axes>"
      ]
     },
     "metadata": {
      "needs_background": "light"
     },
     "output_type": "display_data"
    }
   ],
   "source": [
    "## debiased method\n",
    "plt.hist((rslt_rcl_df['theta_hat'] - rslt_rcl_df['theta_hat'].mean())/rslt_rcl_df['theta_hat'].std(), \n",
    "         bins=13, alpha=0.5, label='Debiased', density=True)\n",
    "\n",
    "## add std normal\n",
    "x = np.linspace(-2.5, 2.5, 100)  # Range for x-axis\n",
    "y = norm.pdf(x, 0, 1)  # PDF of the standard normal distribution\n",
    "plt.plot(x, y, label='Standard Normal',color = 'slategray')\n",
    "\n",
    "plt.axvline(rslt_rcl_df['true'].mean(),  linestyle='-', label='True', color = 'red')\n",
    "\n",
    "# Show the plot with a legend\n",
    "plt.legend(loc='upper right')\n",
    "plt.ylim(0, 0.7)\n",
    "\n",
    "plt.show()"
   ]
  },
  {
   "cell_type": "code",
   "execution_count": 10,
   "id": "da03e1e2-e083-482e-b072-7a7feb10c8f1",
   "metadata": {},
   "outputs": [
    {
     "data": {
      "image/png": "[encoded data removed]",
      "text/plain": [
       "<Figure size 432x288 with 1 Axes>"
      ]
     },
     "metadata": {
      "needs_background": "light"
     },
     "output_type": "display_data"
    }
   ],
   "source": [
    "## plug-in method\n",
    "rslt_rcl_nc_df = pd.read_csv('results/plugin_rslt.csv')\n",
    "\n",
    "plt.hist((rslt_rcl_nc_df ['our_nc_hat'] -rslt_rcl_nc_df ['our_nc_hat'].mean())/rslt_rcl_nc_df ['our_nc_hat'].std(), \n",
    "         bins=13, alpha=0.5, label='Plug-in', density = True, color = 'darkorange') \n",
    "## add std normal\n",
    "x = np.linspace(-2.5, 2.5, 100)  # Range for x-axis\n",
    "y = norm.pdf(x, 0, 1)  # PDF of the standard normal distribution\n",
    "plt.plot(x, y,  label='Standard Normal')\n",
    "\n",
    "plt.axvline(rslt_rcl_df['true'].mean(),  linestyle='-', label='True', color = 'red')\n",
    "\n",
    "# Show the plot with a legend\n",
    "plt.legend(loc='upper right')\n",
    "plt.ylim(0, 0.7)\n",
    "\n",
    "plt.show()"
   ]
  },
  {
   "cell_type": "code",
   "execution_count": null,
   "id": "2b49e682-e257-4bbb-8b3e-2d9ed3f8ae94",
   "metadata": {},
   "outputs": [],
   "source": []
  }
 ],
 "metadata": {
  "kernelspec": {
   "display_name": "base",
   "language": "python",
   "name": "base"
  },
  "language_info": {
   "codemirror_mode": {
    "name": "ipython",
    "version": 3
   },
   "file_extension": ".py",
   "mimetype": "text/x-python",
   "name": "python",
   "nbconvert_exporter": "python",
   "pygments_lexer": "ipython3",
   "version": "3.9.7"
  }
 },
 "nbformat": 4,
 "nbformat_minor": 5
}
